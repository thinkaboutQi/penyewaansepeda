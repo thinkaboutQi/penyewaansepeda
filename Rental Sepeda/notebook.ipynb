{
 "cells": [
  {
   "cell_type": "markdown",
   "id": "57a5db34-a197-40a7-a966-36c20d4c6f74",
   "metadata": {
    "scrolled": true
   },
   "source": [
    "# Menentukan Pertanyaan Bisnis\n",
    "\n",
    "- Bagaimana Tren Penggunaan Sepeda dalam setahun. Apakah 2011 atau 2012 yang lebih unggul?\n",
    "- Bagaimana Kondisi Penyewaan saat Workingday,Weekday & Holiday?\n"
   ]
  },
  {
   "cell_type": "markdown",
   "id": "12e6a4ba-e4a1-4645-9c7a-6d6febbeef6c",
   "metadata": {},
   "source": [
    "**Menyiapkan semua library yang dibutuhkan**"
   ]
  },
  {
   "cell_type": "code",
   "execution_count": 1,
   "id": "4dc5d8e1-2525-4b4f-87e8-43678dc64018",
   "metadata": {},
   "outputs": [],
   "source": [
    "import pandas as pd\n",
    "import numpy as np\n",
    "import matplotlib.pyplot as plt\n",
    "import seaborn as sns\n",
    "from datetime import datetime"
   ]
  },
  {
   "cell_type": "code",
   "execution_count": 2,
   "id": "dc24ab76-069e-461f-8a9d-cbdb03980cab",
   "metadata": {},
   "outputs": [],
   "source": [
    "day_df = pd.read_csv(r\"C:\\Users\\qq\\Documents\\submission\\data\\day.csv\")\n",
    "hour_df = pd.read_csv(r\"C:\\Users\\qq\\Documents\\submission\\data\\hour.csv\")"
   ]
  },
  {
   "cell_type": "markdown",
   "id": "f4e86f3f-3810-4ee9-8ede-edce9ba04d63",
   "metadata": {},
   "source": [
    "__Assesing Data__\n",
    "\n",
    "1.Mengecek tipe data day_df"
   ]
  },
  {
   "cell_type": "code",
   "execution_count": 3,
   "id": "2ca3150d-a765-4446-93b6-3051a852a471",
   "metadata": {},
   "outputs": [
    {
     "name": "stdout",
     "output_type": "stream",
     "text": [
      "<class 'pandas.core.frame.DataFrame'>\n",
      "RangeIndex: 731 entries, 0 to 730\n",
      "Data columns (total 16 columns):\n",
      " #   Column      Non-Null Count  Dtype  \n",
      "---  ------      --------------  -----  \n",
      " 0   instant     731 non-null    int64  \n",
      " 1   dteday      731 non-null    object \n",
      " 2   season      731 non-null    int64  \n",
      " 3   yr          731 non-null    int64  \n",
      " 4   mnth        731 non-null    int64  \n",
      " 5   holiday     731 non-null    int64  \n",
      " 6   weekday     731 non-null    int64  \n",
      " 7   workingday  731 non-null    int64  \n",
      " 8   weathersit  731 non-null    int64  \n",
      " 9   temp        731 non-null    float64\n",
      " 10  atemp       731 non-null    float64\n",
      " 11  hum         731 non-null    float64\n",
      " 12  windspeed   731 non-null    float64\n",
      " 13  casual      731 non-null    int64  \n",
      " 14  registered  731 non-null    int64  \n",
      " 15  cnt         731 non-null    int64  \n",
      "dtypes: float64(4), int64(11), object(1)\n",
      "memory usage: 91.5+ KB\n"
     ]
    }
   ],
   "source": [
    "day_df.info()"
   ]
  },
  {
   "cell_type": "markdown",
   "id": "0618ffde-f16d-401b-8e9c-851933a5512e",
   "metadata": {},
   "source": [
    "ada kolom yang tidak sesuai dengan datatype, yaitu dteday.Kita perlu perbaiki menjadi datetime"
   ]
  },
  {
   "cell_type": "markdown",
   "id": "c0917b2e-31fb-4ebc-baf0-5579d5372b72",
   "metadata": {},
   "source": [
    "2. Mengecek apakah ada missing values"
   ]
  },
  {
   "cell_type": "code",
   "execution_count": 4,
   "id": "e3269c18-57df-444f-a441-de135561dee5",
   "metadata": {},
   "outputs": [
    {
     "data": {
      "text/plain": [
       "instant       0\n",
       "dteday        0\n",
       "season        0\n",
       "yr            0\n",
       "mnth          0\n",
       "holiday       0\n",
       "weekday       0\n",
       "workingday    0\n",
       "weathersit    0\n",
       "temp          0\n",
       "atemp         0\n",
       "hum           0\n",
       "windspeed     0\n",
       "casual        0\n",
       "registered    0\n",
       "cnt           0\n",
       "dtype: int64"
      ]
     },
     "execution_count": 4,
     "metadata": {},
     "output_type": "execute_result"
    }
   ],
   "source": [
    "day_df.isna().sum()"
   ]
  },
  {
   "cell_type": "markdown",
   "id": "41a85099-67a9-4670-b63f-073bb405d139",
   "metadata": {},
   "source": [
    "tidak ada missing values"
   ]
  },
  {
   "cell_type": "markdown",
   "id": "377b825e-8e91-4cc7-ae83-ce69085b77c4",
   "metadata": {},
   "source": [
    "3.Mengecek apakah ada data yang terduplikasi"
   ]
  },
  {
   "cell_type": "code",
   "execution_count": 5,
   "id": "c269998b-de19-4a95-857e-a9f26717e6a1",
   "metadata": {},
   "outputs": [
    {
     "name": "stdout",
     "output_type": "stream",
     "text": [
      "jumlah duplikasi : 0\n"
     ]
    }
   ],
   "source": [
    "print(\"jumlah duplikasi :\", day_df.duplicated().sum())"
   ]
  },
  {
   "cell_type": "markdown",
   "id": "428e6434-db55-40ab-afa4-cd622f8ceed2",
   "metadata": {},
   "source": [
    "tidak ada yang datanya duplikat. berarti semua data bersifat unik"
   ]
  },
  {
   "cell_type": "markdown",
   "id": "174c91cd-52e9-4022-897e-0a018f9b8051",
   "metadata": {},
   "source": [
    "4.Memeriksa nilai statistiknya"
   ]
  },
  {
   "cell_type": "code",
   "execution_count": 6,
   "id": "f9c11c37-08bb-481d-9bcc-5d76e9cdadf5",
   "metadata": {},
   "outputs": [
    {
     "data": {
      "text/html": [
       "<div>\n",
       "<style scoped>\n",
       "    .dataframe tbody tr th:only-of-type {\n",
       "        vertical-align: middle;\n",
       "    }\n",
       "\n",
       "    .dataframe tbody tr th {\n",
       "        vertical-align: top;\n",
       "    }\n",
       "\n",
       "    .dataframe thead th {\n",
       "        text-align: right;\n",
       "    }\n",
       "</style>\n",
       "<table border=\"1\" class=\"dataframe\">\n",
       "  <thead>\n",
       "    <tr style=\"text-align: right;\">\n",
       "      <th></th>\n",
       "      <th>instant</th>\n",
       "      <th>season</th>\n",
       "      <th>yr</th>\n",
       "      <th>mnth</th>\n",
       "      <th>holiday</th>\n",
       "      <th>weekday</th>\n",
       "      <th>workingday</th>\n",
       "      <th>weathersit</th>\n",
       "      <th>temp</th>\n",
       "      <th>atemp</th>\n",
       "      <th>hum</th>\n",
       "      <th>windspeed</th>\n",
       "      <th>casual</th>\n",
       "      <th>registered</th>\n",
       "      <th>cnt</th>\n",
       "    </tr>\n",
       "  </thead>\n",
       "  <tbody>\n",
       "    <tr>\n",
       "      <th>count</th>\n",
       "      <td>731.000000</td>\n",
       "      <td>731.000000</td>\n",
       "      <td>731.000000</td>\n",
       "      <td>731.000000</td>\n",
       "      <td>731.000000</td>\n",
       "      <td>731.000000</td>\n",
       "      <td>731.000000</td>\n",
       "      <td>731.000000</td>\n",
       "      <td>731.000000</td>\n",
       "      <td>731.000000</td>\n",
       "      <td>731.000000</td>\n",
       "      <td>731.000000</td>\n",
       "      <td>731.000000</td>\n",
       "      <td>731.000000</td>\n",
       "      <td>731.000000</td>\n",
       "    </tr>\n",
       "    <tr>\n",
       "      <th>mean</th>\n",
       "      <td>366.000000</td>\n",
       "      <td>2.496580</td>\n",
       "      <td>0.500684</td>\n",
       "      <td>6.519836</td>\n",
       "      <td>0.028728</td>\n",
       "      <td>2.997264</td>\n",
       "      <td>0.683995</td>\n",
       "      <td>1.395349</td>\n",
       "      <td>0.495385</td>\n",
       "      <td>0.474354</td>\n",
       "      <td>0.627894</td>\n",
       "      <td>0.190486</td>\n",
       "      <td>848.176471</td>\n",
       "      <td>3656.172367</td>\n",
       "      <td>4504.348837</td>\n",
       "    </tr>\n",
       "    <tr>\n",
       "      <th>std</th>\n",
       "      <td>211.165812</td>\n",
       "      <td>1.110807</td>\n",
       "      <td>0.500342</td>\n",
       "      <td>3.451913</td>\n",
       "      <td>0.167155</td>\n",
       "      <td>2.004787</td>\n",
       "      <td>0.465233</td>\n",
       "      <td>0.544894</td>\n",
       "      <td>0.183051</td>\n",
       "      <td>0.162961</td>\n",
       "      <td>0.142429</td>\n",
       "      <td>0.077498</td>\n",
       "      <td>686.622488</td>\n",
       "      <td>1560.256377</td>\n",
       "      <td>1937.211452</td>\n",
       "    </tr>\n",
       "    <tr>\n",
       "      <th>min</th>\n",
       "      <td>1.000000</td>\n",
       "      <td>1.000000</td>\n",
       "      <td>0.000000</td>\n",
       "      <td>1.000000</td>\n",
       "      <td>0.000000</td>\n",
       "      <td>0.000000</td>\n",
       "      <td>0.000000</td>\n",
       "      <td>1.000000</td>\n",
       "      <td>0.059130</td>\n",
       "      <td>0.079070</td>\n",
       "      <td>0.000000</td>\n",
       "      <td>0.022392</td>\n",
       "      <td>2.000000</td>\n",
       "      <td>20.000000</td>\n",
       "      <td>22.000000</td>\n",
       "    </tr>\n",
       "    <tr>\n",
       "      <th>25%</th>\n",
       "      <td>183.500000</td>\n",
       "      <td>2.000000</td>\n",
       "      <td>0.000000</td>\n",
       "      <td>4.000000</td>\n",
       "      <td>0.000000</td>\n",
       "      <td>1.000000</td>\n",
       "      <td>0.000000</td>\n",
       "      <td>1.000000</td>\n",
       "      <td>0.337083</td>\n",
       "      <td>0.337842</td>\n",
       "      <td>0.520000</td>\n",
       "      <td>0.134950</td>\n",
       "      <td>315.500000</td>\n",
       "      <td>2497.000000</td>\n",
       "      <td>3152.000000</td>\n",
       "    </tr>\n",
       "    <tr>\n",
       "      <th>50%</th>\n",
       "      <td>366.000000</td>\n",
       "      <td>3.000000</td>\n",
       "      <td>1.000000</td>\n",
       "      <td>7.000000</td>\n",
       "      <td>0.000000</td>\n",
       "      <td>3.000000</td>\n",
       "      <td>1.000000</td>\n",
       "      <td>1.000000</td>\n",
       "      <td>0.498333</td>\n",
       "      <td>0.486733</td>\n",
       "      <td>0.626667</td>\n",
       "      <td>0.180975</td>\n",
       "      <td>713.000000</td>\n",
       "      <td>3662.000000</td>\n",
       "      <td>4548.000000</td>\n",
       "    </tr>\n",
       "    <tr>\n",
       "      <th>75%</th>\n",
       "      <td>548.500000</td>\n",
       "      <td>3.000000</td>\n",
       "      <td>1.000000</td>\n",
       "      <td>10.000000</td>\n",
       "      <td>0.000000</td>\n",
       "      <td>5.000000</td>\n",
       "      <td>1.000000</td>\n",
       "      <td>2.000000</td>\n",
       "      <td>0.655417</td>\n",
       "      <td>0.608602</td>\n",
       "      <td>0.730209</td>\n",
       "      <td>0.233214</td>\n",
       "      <td>1096.000000</td>\n",
       "      <td>4776.500000</td>\n",
       "      <td>5956.000000</td>\n",
       "    </tr>\n",
       "    <tr>\n",
       "      <th>max</th>\n",
       "      <td>731.000000</td>\n",
       "      <td>4.000000</td>\n",
       "      <td>1.000000</td>\n",
       "      <td>12.000000</td>\n",
       "      <td>1.000000</td>\n",
       "      <td>6.000000</td>\n",
       "      <td>1.000000</td>\n",
       "      <td>3.000000</td>\n",
       "      <td>0.861667</td>\n",
       "      <td>0.840896</td>\n",
       "      <td>0.972500</td>\n",
       "      <td>0.507463</td>\n",
       "      <td>3410.000000</td>\n",
       "      <td>6946.000000</td>\n",
       "      <td>8714.000000</td>\n",
       "    </tr>\n",
       "  </tbody>\n",
       "</table>\n",
       "</div>"
      ],
      "text/plain": [
       "          instant      season          yr        mnth     holiday     weekday  \\\n",
       "count  731.000000  731.000000  731.000000  731.000000  731.000000  731.000000   \n",
       "mean   366.000000    2.496580    0.500684    6.519836    0.028728    2.997264   \n",
       "std    211.165812    1.110807    0.500342    3.451913    0.167155    2.004787   \n",
       "min      1.000000    1.000000    0.000000    1.000000    0.000000    0.000000   \n",
       "25%    183.500000    2.000000    0.000000    4.000000    0.000000    1.000000   \n",
       "50%    366.000000    3.000000    1.000000    7.000000    0.000000    3.000000   \n",
       "75%    548.500000    3.000000    1.000000   10.000000    0.000000    5.000000   \n",
       "max    731.000000    4.000000    1.000000   12.000000    1.000000    6.000000   \n",
       "\n",
       "       workingday  weathersit        temp       atemp         hum   windspeed  \\\n",
       "count  731.000000  731.000000  731.000000  731.000000  731.000000  731.000000   \n",
       "mean     0.683995    1.395349    0.495385    0.474354    0.627894    0.190486   \n",
       "std      0.465233    0.544894    0.183051    0.162961    0.142429    0.077498   \n",
       "min      0.000000    1.000000    0.059130    0.079070    0.000000    0.022392   \n",
       "25%      0.000000    1.000000    0.337083    0.337842    0.520000    0.134950   \n",
       "50%      1.000000    1.000000    0.498333    0.486733    0.626667    0.180975   \n",
       "75%      1.000000    2.000000    0.655417    0.608602    0.730209    0.233214   \n",
       "max      1.000000    3.000000    0.861667    0.840896    0.972500    0.507463   \n",
       "\n",
       "            casual   registered          cnt  \n",
       "count   731.000000   731.000000   731.000000  \n",
       "mean    848.176471  3656.172367  4504.348837  \n",
       "std     686.622488  1560.256377  1937.211452  \n",
       "min       2.000000    20.000000    22.000000  \n",
       "25%     315.500000  2497.000000  3152.000000  \n",
       "50%     713.000000  3662.000000  4548.000000  \n",
       "75%    1096.000000  4776.500000  5956.000000  \n",
       "max    3410.000000  6946.000000  8714.000000  "
      ]
     },
     "execution_count": 6,
     "metadata": {},
     "output_type": "execute_result"
    }
   ],
   "source": [
    "day_df.describe()"
   ]
  },
  {
   "cell_type": "markdown",
   "id": "8a951c87-fe9a-499f-b57a-b2ab963dbb4a",
   "metadata": {},
   "source": [
    "tidak ada yang aneh di nilai statisnya"
   ]
  },
  {
   "cell_type": "markdown",
   "id": "de34a2e2-e48f-415b-89a9-f891d00458bc",
   "metadata": {},
   "source": [
    "**Menilai data hour_df**"
   ]
  },
  {
   "cell_type": "markdown",
   "id": "57a79b07-8431-4064-b348-a32f4c3e4df7",
   "metadata": {},
   "source": [
    "1. Cek Info hour_df"
   ]
  },
  {
   "cell_type": "code",
   "execution_count": 7,
   "id": "6cf2ef53-a8f7-40dc-9665-85ff9e726fea",
   "metadata": {},
   "outputs": [
    {
     "name": "stdout",
     "output_type": "stream",
     "text": [
      "<class 'pandas.core.frame.DataFrame'>\n",
      "RangeIndex: 17379 entries, 0 to 17378\n",
      "Data columns (total 17 columns):\n",
      " #   Column      Non-Null Count  Dtype  \n",
      "---  ------      --------------  -----  \n",
      " 0   instant     17379 non-null  int64  \n",
      " 1   dteday      17379 non-null  object \n",
      " 2   season      17379 non-null  int64  \n",
      " 3   yr          17379 non-null  int64  \n",
      " 4   mnth        17379 non-null  int64  \n",
      " 5   hr          17379 non-null  int64  \n",
      " 6   holiday     17379 non-null  int64  \n",
      " 7   weekday     17379 non-null  int64  \n",
      " 8   workingday  17379 non-null  int64  \n",
      " 9   weathersit  17379 non-null  int64  \n",
      " 10  temp        17379 non-null  float64\n",
      " 11  atemp       17379 non-null  float64\n",
      " 12  hum         17379 non-null  float64\n",
      " 13  windspeed   17379 non-null  float64\n",
      " 14  casual      17379 non-null  int64  \n",
      " 15  registered  17379 non-null  int64  \n",
      " 16  cnt         17379 non-null  int64  \n",
      "dtypes: float64(4), int64(12), object(1)\n",
      "memory usage: 2.3+ MB\n"
     ]
    }
   ],
   "source": [
    "hour_df.info()"
   ]
  },
  {
   "cell_type": "markdown",
   "id": "e889a2e3-896c-466f-8910-c3338a4716f1",
   "metadata": {},
   "source": [
    "seperti tadi, kita perbaiki dteday dtype menjadi datetime"
   ]
  },
  {
   "cell_type": "markdown",
   "id": "a916a7fe-72f9-493a-9d5c-e04698976cf9",
   "metadata": {},
   "source": [
    "2. Missing Values"
   ]
  },
  {
   "cell_type": "code",
   "execution_count": 8,
   "id": "8136f54b-737f-4bee-b230-50970f1f26ff",
   "metadata": {},
   "outputs": [
    {
     "data": {
      "text/plain": [
       "instant       0\n",
       "dteday        0\n",
       "season        0\n",
       "yr            0\n",
       "mnth          0\n",
       "hr            0\n",
       "holiday       0\n",
       "weekday       0\n",
       "workingday    0\n",
       "weathersit    0\n",
       "temp          0\n",
       "atemp         0\n",
       "hum           0\n",
       "windspeed     0\n",
       "casual        0\n",
       "registered    0\n",
       "cnt           0\n",
       "dtype: int64"
      ]
     },
     "execution_count": 8,
     "metadata": {},
     "output_type": "execute_result"
    }
   ],
   "source": [
    "hour_df.isna().sum()"
   ]
  },
  {
   "cell_type": "markdown",
   "id": "33b6c959-55a0-4afa-8f04-1dd9630d00c1",
   "metadata": {},
   "source": [
    "tidak ada yang missing"
   ]
  },
  {
   "cell_type": "markdown",
   "id": "c9beb3ce-7d4b-44bf-9073-d4988bfee99a",
   "metadata": {},
   "source": [
    "3. Cek duplikat"
   ]
  },
  {
   "cell_type": "code",
   "execution_count": 9,
   "id": "7df57d8c-1b58-483d-bfa5-a472593ec20b",
   "metadata": {},
   "outputs": [
    {
     "name": "stdout",
     "output_type": "stream",
     "text": [
      "jumlah duplikasi:  0\n"
     ]
    }
   ],
   "source": [
    "print(\"jumlah duplikasi: \", hour_df.duplicated().sum())"
   ]
  },
  {
   "cell_type": "markdown",
   "id": "ed89560d-618e-4e9f-83dd-c6fe79ab9ce7",
   "metadata": {},
   "source": [
    "tidak ada yang duplikat semua data bersifat unik"
   ]
  },
  {
   "cell_type": "markdown",
   "id": "5eef8cbf-cb34-40fb-b809-ebd726adab66",
   "metadata": {},
   "source": [
    "4. mengecek nilai statistiknya"
   ]
  },
  {
   "cell_type": "code",
   "execution_count": 10,
   "id": "edc8b98b-f32c-4cdb-b931-3529563aac2a",
   "metadata": {},
   "outputs": [
    {
     "data": {
      "text/html": [
       "<div>\n",
       "<style scoped>\n",
       "    .dataframe tbody tr th:only-of-type {\n",
       "        vertical-align: middle;\n",
       "    }\n",
       "\n",
       "    .dataframe tbody tr th {\n",
       "        vertical-align: top;\n",
       "    }\n",
       "\n",
       "    .dataframe thead th {\n",
       "        text-align: right;\n",
       "    }\n",
       "</style>\n",
       "<table border=\"1\" class=\"dataframe\">\n",
       "  <thead>\n",
       "    <tr style=\"text-align: right;\">\n",
       "      <th></th>\n",
       "      <th>instant</th>\n",
       "      <th>season</th>\n",
       "      <th>yr</th>\n",
       "      <th>mnth</th>\n",
       "      <th>hr</th>\n",
       "      <th>holiday</th>\n",
       "      <th>weekday</th>\n",
       "      <th>workingday</th>\n",
       "      <th>weathersit</th>\n",
       "      <th>temp</th>\n",
       "      <th>atemp</th>\n",
       "      <th>hum</th>\n",
       "      <th>windspeed</th>\n",
       "      <th>casual</th>\n",
       "      <th>registered</th>\n",
       "      <th>cnt</th>\n",
       "    </tr>\n",
       "  </thead>\n",
       "  <tbody>\n",
       "    <tr>\n",
       "      <th>count</th>\n",
       "      <td>17379.0000</td>\n",
       "      <td>17379.000000</td>\n",
       "      <td>17379.000000</td>\n",
       "      <td>17379.000000</td>\n",
       "      <td>17379.000000</td>\n",
       "      <td>17379.000000</td>\n",
       "      <td>17379.000000</td>\n",
       "      <td>17379.000000</td>\n",
       "      <td>17379.000000</td>\n",
       "      <td>17379.000000</td>\n",
       "      <td>17379.000000</td>\n",
       "      <td>17379.000000</td>\n",
       "      <td>17379.000000</td>\n",
       "      <td>17379.000000</td>\n",
       "      <td>17379.000000</td>\n",
       "      <td>17379.000000</td>\n",
       "    </tr>\n",
       "    <tr>\n",
       "      <th>mean</th>\n",
       "      <td>8690.0000</td>\n",
       "      <td>2.501640</td>\n",
       "      <td>0.502561</td>\n",
       "      <td>6.537775</td>\n",
       "      <td>11.546752</td>\n",
       "      <td>0.028770</td>\n",
       "      <td>3.003683</td>\n",
       "      <td>0.682721</td>\n",
       "      <td>1.425283</td>\n",
       "      <td>0.496987</td>\n",
       "      <td>0.475775</td>\n",
       "      <td>0.627229</td>\n",
       "      <td>0.190098</td>\n",
       "      <td>35.676218</td>\n",
       "      <td>153.786869</td>\n",
       "      <td>189.463088</td>\n",
       "    </tr>\n",
       "    <tr>\n",
       "      <th>std</th>\n",
       "      <td>5017.0295</td>\n",
       "      <td>1.106918</td>\n",
       "      <td>0.500008</td>\n",
       "      <td>3.438776</td>\n",
       "      <td>6.914405</td>\n",
       "      <td>0.167165</td>\n",
       "      <td>2.005771</td>\n",
       "      <td>0.465431</td>\n",
       "      <td>0.639357</td>\n",
       "      <td>0.192556</td>\n",
       "      <td>0.171850</td>\n",
       "      <td>0.192930</td>\n",
       "      <td>0.122340</td>\n",
       "      <td>49.305030</td>\n",
       "      <td>151.357286</td>\n",
       "      <td>181.387599</td>\n",
       "    </tr>\n",
       "    <tr>\n",
       "      <th>min</th>\n",
       "      <td>1.0000</td>\n",
       "      <td>1.000000</td>\n",
       "      <td>0.000000</td>\n",
       "      <td>1.000000</td>\n",
       "      <td>0.000000</td>\n",
       "      <td>0.000000</td>\n",
       "      <td>0.000000</td>\n",
       "      <td>0.000000</td>\n",
       "      <td>1.000000</td>\n",
       "      <td>0.020000</td>\n",
       "      <td>0.000000</td>\n",
       "      <td>0.000000</td>\n",
       "      <td>0.000000</td>\n",
       "      <td>0.000000</td>\n",
       "      <td>0.000000</td>\n",
       "      <td>1.000000</td>\n",
       "    </tr>\n",
       "    <tr>\n",
       "      <th>25%</th>\n",
       "      <td>4345.5000</td>\n",
       "      <td>2.000000</td>\n",
       "      <td>0.000000</td>\n",
       "      <td>4.000000</td>\n",
       "      <td>6.000000</td>\n",
       "      <td>0.000000</td>\n",
       "      <td>1.000000</td>\n",
       "      <td>0.000000</td>\n",
       "      <td>1.000000</td>\n",
       "      <td>0.340000</td>\n",
       "      <td>0.333300</td>\n",
       "      <td>0.480000</td>\n",
       "      <td>0.104500</td>\n",
       "      <td>4.000000</td>\n",
       "      <td>34.000000</td>\n",
       "      <td>40.000000</td>\n",
       "    </tr>\n",
       "    <tr>\n",
       "      <th>50%</th>\n",
       "      <td>8690.0000</td>\n",
       "      <td>3.000000</td>\n",
       "      <td>1.000000</td>\n",
       "      <td>7.000000</td>\n",
       "      <td>12.000000</td>\n",
       "      <td>0.000000</td>\n",
       "      <td>3.000000</td>\n",
       "      <td>1.000000</td>\n",
       "      <td>1.000000</td>\n",
       "      <td>0.500000</td>\n",
       "      <td>0.484800</td>\n",
       "      <td>0.630000</td>\n",
       "      <td>0.194000</td>\n",
       "      <td>17.000000</td>\n",
       "      <td>115.000000</td>\n",
       "      <td>142.000000</td>\n",
       "    </tr>\n",
       "    <tr>\n",
       "      <th>75%</th>\n",
       "      <td>13034.5000</td>\n",
       "      <td>3.000000</td>\n",
       "      <td>1.000000</td>\n",
       "      <td>10.000000</td>\n",
       "      <td>18.000000</td>\n",
       "      <td>0.000000</td>\n",
       "      <td>5.000000</td>\n",
       "      <td>1.000000</td>\n",
       "      <td>2.000000</td>\n",
       "      <td>0.660000</td>\n",
       "      <td>0.621200</td>\n",
       "      <td>0.780000</td>\n",
       "      <td>0.253700</td>\n",
       "      <td>48.000000</td>\n",
       "      <td>220.000000</td>\n",
       "      <td>281.000000</td>\n",
       "    </tr>\n",
       "    <tr>\n",
       "      <th>max</th>\n",
       "      <td>17379.0000</td>\n",
       "      <td>4.000000</td>\n",
       "      <td>1.000000</td>\n",
       "      <td>12.000000</td>\n",
       "      <td>23.000000</td>\n",
       "      <td>1.000000</td>\n",
       "      <td>6.000000</td>\n",
       "      <td>1.000000</td>\n",
       "      <td>4.000000</td>\n",
       "      <td>1.000000</td>\n",
       "      <td>1.000000</td>\n",
       "      <td>1.000000</td>\n",
       "      <td>0.850700</td>\n",
       "      <td>367.000000</td>\n",
       "      <td>886.000000</td>\n",
       "      <td>977.000000</td>\n",
       "    </tr>\n",
       "  </tbody>\n",
       "</table>\n",
       "</div>"
      ],
      "text/plain": [
       "          instant        season            yr          mnth            hr  \\\n",
       "count  17379.0000  17379.000000  17379.000000  17379.000000  17379.000000   \n",
       "mean    8690.0000      2.501640      0.502561      6.537775     11.546752   \n",
       "std     5017.0295      1.106918      0.500008      3.438776      6.914405   \n",
       "min        1.0000      1.000000      0.000000      1.000000      0.000000   \n",
       "25%     4345.5000      2.000000      0.000000      4.000000      6.000000   \n",
       "50%     8690.0000      3.000000      1.000000      7.000000     12.000000   \n",
       "75%    13034.5000      3.000000      1.000000     10.000000     18.000000   \n",
       "max    17379.0000      4.000000      1.000000     12.000000     23.000000   \n",
       "\n",
       "            holiday       weekday    workingday    weathersit          temp  \\\n",
       "count  17379.000000  17379.000000  17379.000000  17379.000000  17379.000000   \n",
       "mean       0.028770      3.003683      0.682721      1.425283      0.496987   \n",
       "std        0.167165      2.005771      0.465431      0.639357      0.192556   \n",
       "min        0.000000      0.000000      0.000000      1.000000      0.020000   \n",
       "25%        0.000000      1.000000      0.000000      1.000000      0.340000   \n",
       "50%        0.000000      3.000000      1.000000      1.000000      0.500000   \n",
       "75%        0.000000      5.000000      1.000000      2.000000      0.660000   \n",
       "max        1.000000      6.000000      1.000000      4.000000      1.000000   \n",
       "\n",
       "              atemp           hum     windspeed        casual    registered  \\\n",
       "count  17379.000000  17379.000000  17379.000000  17379.000000  17379.000000   \n",
       "mean       0.475775      0.627229      0.190098     35.676218    153.786869   \n",
       "std        0.171850      0.192930      0.122340     49.305030    151.357286   \n",
       "min        0.000000      0.000000      0.000000      0.000000      0.000000   \n",
       "25%        0.333300      0.480000      0.104500      4.000000     34.000000   \n",
       "50%        0.484800      0.630000      0.194000     17.000000    115.000000   \n",
       "75%        0.621200      0.780000      0.253700     48.000000    220.000000   \n",
       "max        1.000000      1.000000      0.850700    367.000000    886.000000   \n",
       "\n",
       "                cnt  \n",
       "count  17379.000000  \n",
       "mean     189.463088  \n",
       "std      181.387599  \n",
       "min        1.000000  \n",
       "25%       40.000000  \n",
       "50%      142.000000  \n",
       "75%      281.000000  \n",
       "max      977.000000  "
      ]
     },
     "execution_count": 10,
     "metadata": {},
     "output_type": "execute_result"
    }
   ],
   "source": [
    "hour_df.describe()"
   ]
  },
  {
   "cell_type": "markdown",
   "id": "fa8f0924-3df2-40b9-98e4-a2b34f70bb6d",
   "metadata": {},
   "source": [
    "tidak ada yang aneh dalam nilai statisnya"
   ]
  },
  {
   "cell_type": "markdown",
   "id": "a294fb25-10ba-441e-b6e8-cb23918efe2c",
   "metadata": {},
   "source": [
    "saya akan menyortir data dari Hour_df karena terlalu banyak maka saya akan mengambil dari 1000 dari atas"
   ]
  },
  {
   "cell_type": "code",
   "execution_count": 11,
   "id": "688c80d6-1b5d-49c8-a532-f97d3dcb711b",
   "metadata": {},
   "outputs": [],
   "source": [
    "hour_df_sorted = hour_df.sort_values(by='registered', ascending=True)\n",
    "hour_df_top_1000 = hour_df_sorted.head(1000)\n"
   ]
  },
  {
   "cell_type": "markdown",
   "id": "2c6d4a3a-4f76-4542-b7ea-1f1195f2220a",
   "metadata": {},
   "source": [
    "__Cleaning Data__"
   ]
  },
  {
   "cell_type": "markdown",
   "id": "344a2846-2073-4f6f-b51c-84eac3d7bc81",
   "metadata": {},
   "source": [
    "1.menggunakan satu tabel saja\n",
    "karena hour dan day itu bedanya hanya di kolom hr nya saja,selebihnya sama semua"
   ]
  },
  {
   "cell_type": "code",
   "execution_count": 12,
   "id": "66d6efaf-5bbc-4391-ac8e-98d14720e79b",
   "metadata": {},
   "outputs": [],
   "source": [
    "del day_df"
   ]
  },
  {
   "cell_type": "markdown",
   "id": "b2eb49e5-ee55-4036-a9c0-f72c2dea08f1",
   "metadata": {},
   "source": [
    "Menghapus colomn yang tidak diperlukan"
   ]
  },
  {
   "cell_type": "code",
   "execution_count": 13,
   "id": "4a307ed0-e8cd-463c-8cd2-8bd0fa627037",
   "metadata": {},
   "outputs": [
    {
     "data": {
      "text/html": [
       "<div>\n",
       "<style scoped>\n",
       "    .dataframe tbody tr th:only-of-type {\n",
       "        vertical-align: middle;\n",
       "    }\n",
       "\n",
       "    .dataframe tbody tr th {\n",
       "        vertical-align: top;\n",
       "    }\n",
       "\n",
       "    .dataframe thead th {\n",
       "        text-align: right;\n",
       "    }\n",
       "</style>\n",
       "<table border=\"1\" class=\"dataframe\">\n",
       "  <thead>\n",
       "    <tr style=\"text-align: right;\">\n",
       "      <th></th>\n",
       "      <th>dteday</th>\n",
       "      <th>yr</th>\n",
       "      <th>mnth</th>\n",
       "      <th>hr</th>\n",
       "      <th>holiday</th>\n",
       "      <th>weekday</th>\n",
       "      <th>workingday</th>\n",
       "      <th>casual</th>\n",
       "      <th>registered</th>\n",
       "      <th>cnt</th>\n",
       "    </tr>\n",
       "  </thead>\n",
       "  <tbody>\n",
       "    <tr>\n",
       "      <th>0</th>\n",
       "      <td>2011-01-01</td>\n",
       "      <td>0</td>\n",
       "      <td>1</td>\n",
       "      <td>0</td>\n",
       "      <td>0</td>\n",
       "      <td>6</td>\n",
       "      <td>0</td>\n",
       "      <td>3</td>\n",
       "      <td>13</td>\n",
       "      <td>16</td>\n",
       "    </tr>\n",
       "    <tr>\n",
       "      <th>1</th>\n",
       "      <td>2011-01-01</td>\n",
       "      <td>0</td>\n",
       "      <td>1</td>\n",
       "      <td>1</td>\n",
       "      <td>0</td>\n",
       "      <td>6</td>\n",
       "      <td>0</td>\n",
       "      <td>8</td>\n",
       "      <td>32</td>\n",
       "      <td>40</td>\n",
       "    </tr>\n",
       "    <tr>\n",
       "      <th>2</th>\n",
       "      <td>2011-01-01</td>\n",
       "      <td>0</td>\n",
       "      <td>1</td>\n",
       "      <td>2</td>\n",
       "      <td>0</td>\n",
       "      <td>6</td>\n",
       "      <td>0</td>\n",
       "      <td>5</td>\n",
       "      <td>27</td>\n",
       "      <td>32</td>\n",
       "    </tr>\n",
       "    <tr>\n",
       "      <th>3</th>\n",
       "      <td>2011-01-01</td>\n",
       "      <td>0</td>\n",
       "      <td>1</td>\n",
       "      <td>3</td>\n",
       "      <td>0</td>\n",
       "      <td>6</td>\n",
       "      <td>0</td>\n",
       "      <td>3</td>\n",
       "      <td>10</td>\n",
       "      <td>13</td>\n",
       "    </tr>\n",
       "    <tr>\n",
       "      <th>4</th>\n",
       "      <td>2011-01-01</td>\n",
       "      <td>0</td>\n",
       "      <td>1</td>\n",
       "      <td>4</td>\n",
       "      <td>0</td>\n",
       "      <td>6</td>\n",
       "      <td>0</td>\n",
       "      <td>0</td>\n",
       "      <td>1</td>\n",
       "      <td>1</td>\n",
       "    </tr>\n",
       "  </tbody>\n",
       "</table>\n",
       "</div>"
      ],
      "text/plain": [
       "       dteday  yr  mnth  hr  holiday  weekday  workingday  casual  registered  \\\n",
       "0  2011-01-01   0     1   0        0        6           0       3          13   \n",
       "1  2011-01-01   0     1   1        0        6           0       8          32   \n",
       "2  2011-01-01   0     1   2        0        6           0       5          27   \n",
       "3  2011-01-01   0     1   3        0        6           0       3          10   \n",
       "4  2011-01-01   0     1   4        0        6           0       0           1   \n",
       "\n",
       "   cnt  \n",
       "0   16  \n",
       "1   40  \n",
       "2   32  \n",
       "3   13  \n",
       "4    1  "
      ]
     },
     "execution_count": 13,
     "metadata": {},
     "output_type": "execute_result"
    }
   ],
   "source": [
    "drop_col = ['instant', 'windspeed', 'temp' , 'atemp', 'weathersit','hum','season',]\n",
    "\n",
    "for i in hour_df.columns:\n",
    "    if i in drop_col:\n",
    "        hour_df.drop(labels=i, axis=1, inplace=True)\n",
    "hour_df.head()"
   ]
  },
  {
   "cell_type": "markdown",
   "id": "b28bd3d2-b8f8-443e-9671-4864a6ea7661",
   "metadata": {},
   "source": [
    "Rename Kolom agar lebih kelihatan jelas"
   ]
  },
  {
   "cell_type": "code",
   "execution_count": 14,
   "id": "7591b65a-9179-4494-9eaa-9fa34235ee04",
   "metadata": {},
   "outputs": [
    {
     "data": {
      "text/html": [
       "<div>\n",
       "<style scoped>\n",
       "    .dataframe tbody tr th:only-of-type {\n",
       "        vertical-align: middle;\n",
       "    }\n",
       "\n",
       "    .dataframe tbody tr th {\n",
       "        vertical-align: top;\n",
       "    }\n",
       "\n",
       "    .dataframe thead th {\n",
       "        text-align: right;\n",
       "    }\n",
       "</style>\n",
       "<table border=\"1\" class=\"dataframe\">\n",
       "  <thead>\n",
       "    <tr style=\"text-align: right;\">\n",
       "      <th></th>\n",
       "      <th>dateday</th>\n",
       "      <th>year</th>\n",
       "      <th>month</th>\n",
       "      <th>hr</th>\n",
       "      <th>holiday</th>\n",
       "      <th>weekday</th>\n",
       "      <th>workingday</th>\n",
       "      <th>casual</th>\n",
       "      <th>registered</th>\n",
       "      <th>count</th>\n",
       "    </tr>\n",
       "  </thead>\n",
       "  <tbody>\n",
       "    <tr>\n",
       "      <th>0</th>\n",
       "      <td>2011-01-01</td>\n",
       "      <td>0</td>\n",
       "      <td>1</td>\n",
       "      <td>0</td>\n",
       "      <td>0</td>\n",
       "      <td>6</td>\n",
       "      <td>0</td>\n",
       "      <td>3</td>\n",
       "      <td>13</td>\n",
       "      <td>16</td>\n",
       "    </tr>\n",
       "    <tr>\n",
       "      <th>1</th>\n",
       "      <td>2011-01-01</td>\n",
       "      <td>0</td>\n",
       "      <td>1</td>\n",
       "      <td>1</td>\n",
       "      <td>0</td>\n",
       "      <td>6</td>\n",
       "      <td>0</td>\n",
       "      <td>8</td>\n",
       "      <td>32</td>\n",
       "      <td>40</td>\n",
       "    </tr>\n",
       "    <tr>\n",
       "      <th>2</th>\n",
       "      <td>2011-01-01</td>\n",
       "      <td>0</td>\n",
       "      <td>1</td>\n",
       "      <td>2</td>\n",
       "      <td>0</td>\n",
       "      <td>6</td>\n",
       "      <td>0</td>\n",
       "      <td>5</td>\n",
       "      <td>27</td>\n",
       "      <td>32</td>\n",
       "    </tr>\n",
       "    <tr>\n",
       "      <th>3</th>\n",
       "      <td>2011-01-01</td>\n",
       "      <td>0</td>\n",
       "      <td>1</td>\n",
       "      <td>3</td>\n",
       "      <td>0</td>\n",
       "      <td>6</td>\n",
       "      <td>0</td>\n",
       "      <td>3</td>\n",
       "      <td>10</td>\n",
       "      <td>13</td>\n",
       "    </tr>\n",
       "    <tr>\n",
       "      <th>4</th>\n",
       "      <td>2011-01-01</td>\n",
       "      <td>0</td>\n",
       "      <td>1</td>\n",
       "      <td>4</td>\n",
       "      <td>0</td>\n",
       "      <td>6</td>\n",
       "      <td>0</td>\n",
       "      <td>0</td>\n",
       "      <td>1</td>\n",
       "      <td>1</td>\n",
       "    </tr>\n",
       "  </tbody>\n",
       "</table>\n",
       "</div>"
      ],
      "text/plain": [
       "      dateday  year  month  hr  holiday  weekday  workingday  casual  \\\n",
       "0  2011-01-01     0      1   0        0        6           0       3   \n",
       "1  2011-01-01     0      1   1        0        6           0       8   \n",
       "2  2011-01-01     0      1   2        0        6           0       5   \n",
       "3  2011-01-01     0      1   3        0        6           0       3   \n",
       "4  2011-01-01     0      1   4        0        6           0       0   \n",
       "\n",
       "   registered  count  \n",
       "0          13     16  \n",
       "1          32     40  \n",
       "2          27     32  \n",
       "3          10     13  \n",
       "4           1      1  "
      ]
     },
     "execution_count": 14,
     "metadata": {},
     "output_type": "execute_result"
    }
   ],
   "source": [
    "hour_df.rename(columns={\n",
    "    'dteday' : 'dateday',\n",
    "    'yr' : 'year',\n",
    "    'mnth' : 'month',\n",
    "    'cnt' : 'count'\n",
    "}, inplace=True)\n",
    "hour_df.head()"
   ]
  },
  {
   "cell_type": "markdown",
   "id": "dd58442a-3a24-44fe-9ccf-b52ce715258d",
   "metadata": {},
   "source": [
    "Merubah datatype kolom month,workingday dan weekday menjadi categorical"
   ]
  },
  {
   "cell_type": "code",
   "execution_count": 15,
   "id": "f30dc049-0a03-41b6-aa89-424ccf4fcb23",
   "metadata": {},
   "outputs": [],
   "source": [
    "hour_df['month'] = hour_df.month.astype('category')\n",
    "hour_df['weekday'] = hour_df.weekday.astype('category')\n",
    "hour_df['workingday'] = hour_df.workingday.astype('category')"
   ]
  },
  {
   "cell_type": "markdown",
   "id": "e5a595ab-e733-4ae5-9bab-7de96c70919b",
   "metadata": {},
   "source": [
    "Merubah dateday dtype menjadi datetime"
   ]
  },
  {
   "cell_type": "code",
   "execution_count": 16,
   "id": "0b1f539f-0b84-40c2-8346-4d2849656f14",
   "metadata": {},
   "outputs": [],
   "source": [
    "hour_df['dateday'] = pd.to_datetime(hour_df.dateday)"
   ]
  },
  {
   "cell_type": "markdown",
   "id": "0f0b06eb-ea66-46f8-866e-d5b8b5635463",
   "metadata": {},
   "source": [
    "merubah kolom season,month dan weekday menjadi keterangan"
   ]
  },
  {
   "cell_type": "code",
   "execution_count": 17,
   "id": "84570592-3e40-458e-825c-b90df45a142f",
   "metadata": {},
   "outputs": [],
   "source": [
    "hour_df['month'] = hour_df['month'].map({\n",
    "  1: 'Jan', 2: 'Feb', 3: 'Mar', 4: 'Apr', 5: 'May', 6: 'Jun', 7: 'Jul', 8: 'Aug', 9: 'Sep', 10: 'Oct', 11: 'Nov', 12: 'Dec'  \n",
    "})\n",
    "\n",
    "hour_df['weekday'] = hour_df['weekday'].map({\n",
    "0: 'Sun', 1: 'Mon', 2: 'Tue', 3: 'Wed', 4: 'Thur', 5: 'Fri', 6: 'Sat'\n",
    "})"
   ]
  },
  {
   "cell_type": "code",
   "execution_count": 18,
   "id": "d7ceb84b-b05d-42db-8f95-c794def94ae2",
   "metadata": {},
   "outputs": [
    {
     "name": "stdout",
     "output_type": "stream",
     "text": [
      "<class 'pandas.core.frame.DataFrame'>\n",
      "RangeIndex: 17379 entries, 0 to 17378\n",
      "Data columns (total 10 columns):\n",
      " #   Column      Non-Null Count  Dtype         \n",
      "---  ------      --------------  -----         \n",
      " 0   dateday     17379 non-null  datetime64[ns]\n",
      " 1   year        17379 non-null  int64         \n",
      " 2   month       17379 non-null  category      \n",
      " 3   hr          17379 non-null  int64         \n",
      " 4   holiday     17379 non-null  int64         \n",
      " 5   weekday     17379 non-null  category      \n",
      " 6   workingday  17379 non-null  category      \n",
      " 7   casual      17379 non-null  int64         \n",
      " 8   registered  17379 non-null  int64         \n",
      " 9   count       17379 non-null  int64         \n",
      "dtypes: category(3), datetime64[ns](1), int64(6)\n",
      "memory usage: 1002.3 KB\n"
     ]
    }
   ],
   "source": [
    "hour_df.info()"
   ]
  },
  {
   "cell_type": "markdown",
   "id": "8a3f3c69-bd2e-4478-aff1-0f0861de32b2",
   "metadata": {},
   "source": [
    "# Exploratory Data Analysis\n",
    "\n",
    " ## Eksplor data hour_df\n"
   ]
  },
  {
   "cell_type": "markdown",
   "id": "ed79e313-45a6-4170-9a3a-90f58f8ecae0",
   "metadata": {},
   "source": [
    "1. compare Penyewa berdasar Weekday vs weekend"
   ]
  },
  {
   "cell_type": "code",
   "execution_count": 19,
   "id": "b9ba8ea3-d5da-4810-a094-fd6afe89cd0f",
   "metadata": {},
   "outputs": [
    {
     "data": {
      "text/html": [
       "<div>\n",
       "<style scoped>\n",
       "    .dataframe tbody tr th:only-of-type {\n",
       "        vertical-align: middle;\n",
       "    }\n",
       "\n",
       "    .dataframe tbody tr th {\n",
       "        vertical-align: top;\n",
       "    }\n",
       "\n",
       "    .dataframe thead tr th {\n",
       "        text-align: left;\n",
       "    }\n",
       "\n",
       "    .dataframe thead tr:last-of-type th {\n",
       "        text-align: right;\n",
       "    }\n",
       "</style>\n",
       "<table border=\"1\" class=\"dataframe\">\n",
       "  <thead>\n",
       "    <tr>\n",
       "      <th></th>\n",
       "      <th colspan=\"3\" halign=\"left\">count</th>\n",
       "    </tr>\n",
       "    <tr>\n",
       "      <th></th>\n",
       "      <th>max</th>\n",
       "      <th>min</th>\n",
       "      <th>mean</th>\n",
       "    </tr>\n",
       "    <tr>\n",
       "      <th>weekday</th>\n",
       "      <th></th>\n",
       "      <th></th>\n",
       "      <th></th>\n",
       "    </tr>\n",
       "  </thead>\n",
       "  <tbody>\n",
       "    <tr>\n",
       "      <th>Sun</th>\n",
       "      <td>776</td>\n",
       "      <td>1</td>\n",
       "      <td>177.468825</td>\n",
       "    </tr>\n",
       "    <tr>\n",
       "      <th>Mon</th>\n",
       "      <td>968</td>\n",
       "      <td>1</td>\n",
       "      <td>183.744655</td>\n",
       "    </tr>\n",
       "    <tr>\n",
       "      <th>Tue</th>\n",
       "      <td>970</td>\n",
       "      <td>1</td>\n",
       "      <td>191.238891</td>\n",
       "    </tr>\n",
       "    <tr>\n",
       "      <th>Wed</th>\n",
       "      <td>977</td>\n",
       "      <td>1</td>\n",
       "      <td>191.130505</td>\n",
       "    </tr>\n",
       "    <tr>\n",
       "      <th>Thur</th>\n",
       "      <td>976</td>\n",
       "      <td>1</td>\n",
       "      <td>196.436665</td>\n",
       "    </tr>\n",
       "    <tr>\n",
       "      <th>Fri</th>\n",
       "      <td>957</td>\n",
       "      <td>1</td>\n",
       "      <td>196.135907</td>\n",
       "    </tr>\n",
       "    <tr>\n",
       "      <th>Sat</th>\n",
       "      <td>783</td>\n",
       "      <td>1</td>\n",
       "      <td>190.209793</td>\n",
       "    </tr>\n",
       "  </tbody>\n",
       "</table>\n",
       "</div>"
      ],
      "text/plain": [
       "        count                \n",
       "          max min        mean\n",
       "weekday                      \n",
       "Sun       776   1  177.468825\n",
       "Mon       968   1  183.744655\n",
       "Tue       970   1  191.238891\n",
       "Wed       977   1  191.130505\n",
       "Thur      976   1  196.436665\n",
       "Fri       957   1  196.135907\n",
       "Sat       783   1  190.209793"
      ]
     },
     "execution_count": 19,
     "metadata": {},
     "output_type": "execute_result"
    }
   ],
   "source": [
    "hour_df.groupby(by='weekday',observed=True).agg({\n",
    "    'count' : ['max', 'min', 'mean']\n",
    "})"
   ]
  },
  {
   "cell_type": "markdown",
   "id": "2c28dfcd-ab7a-4f32-90c1-2c465cc22fe7",
   "metadata": {},
   "source": [
    "Bisa kita lihat dari tabel, Urutan rata-rata dari yang terbesar(mean) yaitu : 1.jumat(fri),2.kamis(thur),3.Sabtu(sat),4.Rabu(Wed)\n",
    "5.Selasa(Tue),6.Senin(mon),lalu 7.Minggu"
   ]
  },
  {
   "cell_type": "markdown",
   "id": "4517111b-b42a-457a-88b7-c72538cecd2b",
   "metadata": {},
   "source": [
    "2. mengelompokkan pengguna berdasar Holiday"
   ]
  },
  {
   "cell_type": "code",
   "execution_count": 20,
   "id": "629e7f4e-f0fc-498b-8b4b-9f82c1c051f5",
   "metadata": {},
   "outputs": [
    {
     "data": {
      "text/html": [
       "<div>\n",
       "<style scoped>\n",
       "    .dataframe tbody tr th:only-of-type {\n",
       "        vertical-align: middle;\n",
       "    }\n",
       "\n",
       "    .dataframe tbody tr th {\n",
       "        vertical-align: top;\n",
       "    }\n",
       "\n",
       "    .dataframe thead tr th {\n",
       "        text-align: left;\n",
       "    }\n",
       "\n",
       "    .dataframe thead tr:last-of-type th {\n",
       "        text-align: right;\n",
       "    }\n",
       "</style>\n",
       "<table border=\"1\" class=\"dataframe\">\n",
       "  <thead>\n",
       "    <tr>\n",
       "      <th></th>\n",
       "      <th colspan=\"3\" halign=\"left\">count</th>\n",
       "    </tr>\n",
       "    <tr>\n",
       "      <th></th>\n",
       "      <th>max</th>\n",
       "      <th>min</th>\n",
       "      <th>mean</th>\n",
       "    </tr>\n",
       "    <tr>\n",
       "      <th>holiday</th>\n",
       "      <th></th>\n",
       "      <th></th>\n",
       "      <th></th>\n",
       "    </tr>\n",
       "  </thead>\n",
       "  <tbody>\n",
       "    <tr>\n",
       "      <th>0</th>\n",
       "      <td>977</td>\n",
       "      <td>1</td>\n",
       "      <td>190.42858</td>\n",
       "    </tr>\n",
       "    <tr>\n",
       "      <th>1</th>\n",
       "      <td>712</td>\n",
       "      <td>1</td>\n",
       "      <td>156.87000</td>\n",
       "    </tr>\n",
       "  </tbody>\n",
       "</table>\n",
       "</div>"
      ],
      "text/plain": [
       "        count               \n",
       "          max min       mean\n",
       "holiday                     \n",
       "0         977   1  190.42858\n",
       "1         712   1  156.87000"
      ]
     },
     "execution_count": 20,
     "metadata": {},
     "output_type": "execute_result"
    }
   ],
   "source": [
    "hour_df.groupby(by='holiday',observed=True).agg({\n",
    "    'count' : ['max', 'min', 'mean']\n",
    "})"
   ]
  },
  {
   "cell_type": "markdown",
   "id": "0e008df9-bbed-4c9e-839a-72040528cd73",
   "metadata": {},
   "source": [
    "dari analisa diatas bahwa para pengguna lebih memakai pada non-holiday"
   ]
  },
  {
   "cell_type": "markdown",
   "id": "4e1a0cfc-c753-4beb-96ed-36313d4fc5db",
   "metadata": {},
   "source": [
    "3.Mengelompokkaan perngguna berdasarkan workingday"
   ]
  },
  {
   "cell_type": "code",
   "execution_count": 21,
   "id": "0a64f102-ccba-4aa3-8689-6890ff6734ec",
   "metadata": {},
   "outputs": [
    {
     "data": {
      "text/html": [
       "<div>\n",
       "<style scoped>\n",
       "    .dataframe tbody tr th:only-of-type {\n",
       "        vertical-align: middle;\n",
       "    }\n",
       "\n",
       "    .dataframe tbody tr th {\n",
       "        vertical-align: top;\n",
       "    }\n",
       "\n",
       "    .dataframe thead tr th {\n",
       "        text-align: left;\n",
       "    }\n",
       "\n",
       "    .dataframe thead tr:last-of-type th {\n",
       "        text-align: right;\n",
       "    }\n",
       "</style>\n",
       "<table border=\"1\" class=\"dataframe\">\n",
       "  <thead>\n",
       "    <tr>\n",
       "      <th></th>\n",
       "      <th colspan=\"3\" halign=\"left\">count</th>\n",
       "    </tr>\n",
       "    <tr>\n",
       "      <th></th>\n",
       "      <th>max</th>\n",
       "      <th>min</th>\n",
       "      <th>mean</th>\n",
       "    </tr>\n",
       "    <tr>\n",
       "      <th>workingday</th>\n",
       "      <th></th>\n",
       "      <th></th>\n",
       "      <th></th>\n",
       "    </tr>\n",
       "  </thead>\n",
       "  <tbody>\n",
       "    <tr>\n",
       "      <th>0</th>\n",
       "      <td>783</td>\n",
       "      <td>1</td>\n",
       "      <td>181.405332</td>\n",
       "    </tr>\n",
       "    <tr>\n",
       "      <th>1</th>\n",
       "      <td>977</td>\n",
       "      <td>1</td>\n",
       "      <td>193.207754</td>\n",
       "    </tr>\n",
       "  </tbody>\n",
       "</table>\n",
       "</div>"
      ],
      "text/plain": [
       "           count                \n",
       "             max min        mean\n",
       "workingday                      \n",
       "0            783   1  181.405332\n",
       "1            977   1  193.207754"
      ]
     },
     "execution_count": 21,
     "metadata": {},
     "output_type": "execute_result"
    }
   ],
   "source": [
    "hour_df.groupby(by='workingday',observed=True).agg({\n",
    "    'count' : ['max', 'min', 'mean']\n",
    "})"
   ]
  },
  {
   "cell_type": "markdown",
   "id": "11ee52e9-f8dc-4992-9c6d-56b0410e6424",
   "metadata": {},
   "source": [
    "pengguna casual dan registered lebih menggunakan pada hari kerja daripada hari non-workingday"
   ]
  },
  {
   "cell_type": "markdown",
   "id": "13ce19d5-a425-4484-a7f4-b01aea0f0ea5",
   "metadata": {},
   "source": [
    "__5.Kelompokkan penyewa sepeda(Casual & registered) berdasar bulan__"
   ]
  },
  {
   "cell_type": "code",
   "execution_count": 22,
   "id": "e74746d6-64bd-4a85-b942-9665d96ab5c9",
   "metadata": {},
   "outputs": [
    {
     "data": {
      "text/html": [
       "<div>\n",
       "<style scoped>\n",
       "    .dataframe tbody tr th:only-of-type {\n",
       "        vertical-align: middle;\n",
       "    }\n",
       "\n",
       "    .dataframe tbody tr th {\n",
       "        vertical-align: top;\n",
       "    }\n",
       "\n",
       "    .dataframe thead tr th {\n",
       "        text-align: left;\n",
       "    }\n",
       "\n",
       "    .dataframe thead tr:last-of-type th {\n",
       "        text-align: right;\n",
       "    }\n",
       "</style>\n",
       "<table border=\"1\" class=\"dataframe\">\n",
       "  <thead>\n",
       "    <tr>\n",
       "      <th></th>\n",
       "      <th colspan=\"4\" halign=\"left\">count</th>\n",
       "    </tr>\n",
       "    <tr>\n",
       "      <th></th>\n",
       "      <th>max</th>\n",
       "      <th>min</th>\n",
       "      <th>mean</th>\n",
       "      <th>sum</th>\n",
       "    </tr>\n",
       "    <tr>\n",
       "      <th>month</th>\n",
       "      <th></th>\n",
       "      <th></th>\n",
       "      <th></th>\n",
       "      <th></th>\n",
       "    </tr>\n",
       "  </thead>\n",
       "  <tbody>\n",
       "    <tr>\n",
       "      <th>Jan</th>\n",
       "      <td>559</td>\n",
       "      <td>1</td>\n",
       "      <td>94.424773</td>\n",
       "      <td>134933</td>\n",
       "    </tr>\n",
       "    <tr>\n",
       "      <th>Feb</th>\n",
       "      <td>610</td>\n",
       "      <td>1</td>\n",
       "      <td>112.865026</td>\n",
       "      <td>151352</td>\n",
       "    </tr>\n",
       "    <tr>\n",
       "      <th>Mar</th>\n",
       "      <td>957</td>\n",
       "      <td>1</td>\n",
       "      <td>155.410726</td>\n",
       "      <td>228920</td>\n",
       "    </tr>\n",
       "    <tr>\n",
       "      <th>Apr</th>\n",
       "      <td>822</td>\n",
       "      <td>1</td>\n",
       "      <td>187.260960</td>\n",
       "      <td>269094</td>\n",
       "    </tr>\n",
       "    <tr>\n",
       "      <th>May</th>\n",
       "      <td>873</td>\n",
       "      <td>1</td>\n",
       "      <td>222.907258</td>\n",
       "      <td>331686</td>\n",
       "    </tr>\n",
       "    <tr>\n",
       "      <th>Jun</th>\n",
       "      <td>900</td>\n",
       "      <td>1</td>\n",
       "      <td>240.515278</td>\n",
       "      <td>346342</td>\n",
       "    </tr>\n",
       "    <tr>\n",
       "      <th>Jul</th>\n",
       "      <td>913</td>\n",
       "      <td>1</td>\n",
       "      <td>231.819892</td>\n",
       "      <td>344948</td>\n",
       "    </tr>\n",
       "    <tr>\n",
       "      <th>Aug</th>\n",
       "      <td>941</td>\n",
       "      <td>1</td>\n",
       "      <td>238.097627</td>\n",
       "      <td>351194</td>\n",
       "    </tr>\n",
       "    <tr>\n",
       "      <th>Sep</th>\n",
       "      <td>977</td>\n",
       "      <td>1</td>\n",
       "      <td>240.773138</td>\n",
       "      <td>345991</td>\n",
       "    </tr>\n",
       "    <tr>\n",
       "      <th>Oct</th>\n",
       "      <td>963</td>\n",
       "      <td>1</td>\n",
       "      <td>222.158511</td>\n",
       "      <td>322352</td>\n",
       "    </tr>\n",
       "    <tr>\n",
       "      <th>Nov</th>\n",
       "      <td>729</td>\n",
       "      <td>1</td>\n",
       "      <td>177.335421</td>\n",
       "      <td>254831</td>\n",
       "    </tr>\n",
       "    <tr>\n",
       "      <th>Dec</th>\n",
       "      <td>759</td>\n",
       "      <td>1</td>\n",
       "      <td>142.303439</td>\n",
       "      <td>211036</td>\n",
       "    </tr>\n",
       "  </tbody>\n",
       "</table>\n",
       "</div>"
      ],
      "text/plain": [
       "      count                        \n",
       "        max min        mean     sum\n",
       "month                              \n",
       "Jan     559   1   94.424773  134933\n",
       "Feb     610   1  112.865026  151352\n",
       "Mar     957   1  155.410726  228920\n",
       "Apr     822   1  187.260960  269094\n",
       "May     873   1  222.907258  331686\n",
       "Jun     900   1  240.515278  346342\n",
       "Jul     913   1  231.819892  344948\n",
       "Aug     941   1  238.097627  351194\n",
       "Sep     977   1  240.773138  345991\n",
       "Oct     963   1  222.158511  322352\n",
       "Nov     729   1  177.335421  254831\n",
       "Dec     759   1  142.303439  211036"
      ]
     },
     "execution_count": 22,
     "metadata": {},
     "output_type": "execute_result"
    }
   ],
   "source": [
    "hour_df.groupby(by='month',observed=True).agg({\n",
    "    'count': ['max', 'min', 'mean', 'sum']\n",
    "})"
   ]
  },
  {
   "cell_type": "markdown",
   "id": "f6ea4271-6f9b-4541-a46d-9fc0acd9a07b",
   "metadata": {},
   "source": [
    "Dari data diatas dapat simpulkan,bulan yang memiliki rata-rata terbesar dan jumlah yang banyak yaitu bulan September,Sedangkan rata-rata terkecil dan jumlah terkecil yaitu bulan Januar"
   ]
  },
  {
   "cell_type": "markdown",
   "id": "9b76987f-0c5a-441a-91ec-7634e69f0302",
   "metadata": {},
   "source": [
    "# Visualization dan Explanatory Analysis"
   ]
  },
  {
   "cell_type": "markdown",
   "id": "51887a44-c674-42b2-ab2e-f5f1b3b62180",
   "metadata": {},
   "source": [
    "__Pertanyaan 1: Bagaimana Tren pengguna sepeda dalam setahun. Apakah 2011 atau 2012 yang unggul?__"
   ]
  },
  {
   "cell_type": "code",
   "execution_count": 23,
   "id": "dd151f7e-ac2f-4d87-8277-4117e627f754",
   "metadata": {},
   "outputs": [
    {
     "data": {
      "image/png": "[encoded data removed]",
      "text/plain": [
       "<Figure size 640x480 with 1 Axes>"
      ]
     },
     "metadata": {},
     "output_type": "display_data"
    }
   ],
   "source": [
    "hour_df['month'] = pd.Categorical(hour_df['month'], categories=\n",
    "    ['Jan','Feb','Mar','Apr','May','Jun','Jul','Aug','Sep','Oct','Nov','Dec'],\n",
    "ordered=False)\n",
    "\n",
    "total_months=hour_df.groupby(by=['month','year'],observed=True).agg({\n",
    "    'count' : 'sum'\n",
    "}).reset_index()\n",
    "\n",
    "sns.lineplot(\n",
    "    data=total_months,\n",
    "    x='month',\n",
    "    y='count',\n",
    "    hue='year',\n",
    "    marker='o'\n",
    ")\n",
    "\n",
    "plt.title(\"Jumlah total penyewaan sepeda pada bulan dan tahun\")\n",
    "plt.xlabel(None)\n",
    "plt.ylabel(None)\n",
    "plt.legend(title=\"Tahun\", loc='upper right')\n",
    "plt.tight_layout()\n",
    "plt.show()"
   ]
  },
  {
   "cell_type": "markdown",
   "id": "86a30359-b8a5-44df-abdf-a7f1e3037815",
   "metadata": {},
   "source": [
    "Berdasarkan hasil Visualisasi menggunakan Lineplot, dapat diambil bahwa angka 1 (Tahun 2012) lebih besar penyewaanya daripada tahun 2011(angka0).Penyewaan tertinggi pada tahun 2012 yaitu pada bulan September dan penyewaan terendah pada bulan Januari.Sedangkan pada tahun 2011 penyewaan tertinggi pada bulan Juni dan terendah yaitu bulan Januari"
   ]
  },
  {
   "cell_type": "markdown",
   "id": "abd88dec-3ef5-4445-883a-ebb8d03fd662",
   "metadata": {},
   "source": [
    "__Pertanyaan 2: Bagaimana Kondisi penyewaan saat Workingday,Weekday dan Holiday?__"
   ]
  },
  {
   "cell_type": "code",
   "execution_count": 24,
   "id": "d5df114b-1544-4e89-87f0-767dcb02ff40",
   "metadata": {},
   "outputs": [
    {
     "name": "stderr",
     "output_type": "stream",
     "text": [
      "C:\\Users\\qq\\AppData\\Local\\Temp\\ipykernel_32896\\1997938725.py:4: FutureWarning: \n",
      "\n",
      "Passing `palette` without assigning `hue` is deprecated and will be removed in v0.14.0. Assign the `x` variable to `hue` and set `legend=False` for the same effect.\n",
      "\n",
      "  sns.barplot(\n",
      "C:\\Users\\qq\\AppData\\Local\\Temp\\ipykernel_32896\\1997938725.py:15: FutureWarning: \n",
      "\n",
      "Passing `palette` without assigning `hue` is deprecated and will be removed in v0.14.0. Assign the `x` variable to `hue` and set `legend=False` for the same effect.\n",
      "\n",
      "  sns.barplot(\n",
      "C:\\Users\\qq\\AppData\\Local\\Temp\\ipykernel_32896\\1997938725.py:26: FutureWarning: \n",
      "\n",
      "Passing `palette` without assigning `hue` is deprecated and will be removed in v0.14.0. Assign the `x` variable to `hue` and set `legend=False` for the same effect.\n",
      "\n",
      "  sns.barplot(\n"
     ]
    },
    {
     "data": {
      "image/png": "[encoded data removed]",
      "text/plain": [
       "<Figure size 1500x1000 with 3 Axes>"
      ]
     },
     "metadata": {},
     "output_type": "display_data"
    }
   ],
   "source": [
    "fig, axes = plt.subplots(nrows=3, ncols=1, figsize=(15,10))\n",
    "\n",
    "#berdasarkan Working day\n",
    "sns.barplot(\n",
    "    x='workingday',\n",
    "    y='count',\n",
    "    data=hour_df,\n",
    "    palette='Set3',\n",
    "    ax=axes[0])\n",
    "axes[0].set_title('Jumlah Pengguna sepeda Pada Workingday')\n",
    "axes[0].set_xlabel('Workingday')\n",
    "axes[0].set_ylabel('Jumlah pengguna Sepeda')\n",
    "\n",
    "#berdasarkan Holiday\n",
    "sns.barplot(\n",
    "    x='holiday',\n",
    "    y='count',\n",
    "    data=hour_df,\n",
    "    palette='Set3',\n",
    "    ax=axes[1])\n",
    "axes[1].set_title('Jumlah Pengguna sepeda Pada Holiday')\n",
    "axes[1].set_xlabel('Holiday')\n",
    "axes[1].set_ylabel('Jumlah pengguna Sepeda')\n",
    "\n",
    "#berdsarakan Weekday\n",
    "sns.barplot(\n",
    "    x='weekday',\n",
    "    y='count',\n",
    "    data=hour_df,\n",
    "    palette='Set3',\n",
    "    ax=axes[2])\n",
    "axes[2].set_title('Jumlah Pengguna sepeda Pada Weekday')\n",
    "axes[2].set_xlabel('Weekday')\n",
    "axes[2].set_ylabel('Jumlah pengguna Sepeda')\n",
    "\n",
    "plt.tight_layout()\n",
    "plt.show()"
   ]
  },
  {
   "cell_type": "markdown",
   "id": "6144604f-f450-48b9-8961-df02db4079a8",
   "metadata": {},
   "source": [
    "dari Visualiasi menggunakan barplot, bisa diambil Poin-poin yaitu:\n",
    "\n",
    "- Jumlah penyewa pada Workingday lebih banyak pada Workingday(Sen-Jum) daripada weekend(sab-ming), yang ditandai dengan barplot 0 sebagai workingday dan 1 sebagai weekend\n",
    "- Jumlah penyewa jauh lebih banyak saat hari biasa (bukan hari libur) dibandingkan dengan hari libur.\n",
    "- Jumlah terbesar penyewa sepeda pada weekday yaitu hari Kamis(Thur). Dan jumlah tekecil penyewa sepeda pada weekday jatuh pada hari minggu(Sun) "
   ]
  },
  {
   "cell_type": "markdown",
   "id": "80236703-125d-4f22-893c-8b645999c6d9",
   "metadata": {},
   "source": [
    "## Conclusion"
   ]
  },
  {
   "cell_type": "markdown",
   "id": "fb861c66-75b6-4b85-ae3b-9e9778252855",
   "metadata": {},
   "source": [
    "* Kesimpulan Pertanyaan 1:"
   ]
  },
  {
   "cell_type": "markdown",
   "id": "5a2d83b2-4d84-46e3-b834-cca54480bbab",
   "metadata": {},
   "source": [
    "pada visualisasi ini, dapat kita amati pada kedua tahun yaitu 2011 dan 2012. Terjadi perbedaan puncak penyewaan dan dasar penyewaan. Puncak penyewaan pada tahun 2011 yaitu pada bulan Juni mencapai 125.000 lebih penyewaan.Dan dasar penyewaan pada bulan Januari yang tidak mencapai 50000.Sedangkan pada tahun 2012 puncak penyewaan Terjadi pada bulan September mencapai 200000 lebih penyewaan sepeda.Dan dasar penyewaan pada bulan januari yang tidak mencapai 100000. Dan dari dua visualisasi tersebut, dapat kita amati bahwa tahun 2012 seluruhnya lebih tinggi daripada tahun 2011"
   ]
  },
  {
   "cell_type": "markdown",
   "id": "c1f1edec-8e4e-4a1e-b056-74b8e69a263f",
   "metadata": {},
   "source": [
    "* Kesimpulan Pertanyaan 2:"
   ]
  },
  {
   "cell_type": "markdown",
   "id": "e71ca389-8c87-477d-84ad-314b6ad10328",
   "metadata": {},
   "source": [
    "Kondisi yang tampak pada visualisasi ini terbagi menjadi 3, yaitu pengguna pada sepeda berdasarkan Holiday, Pengguna berdasarkan Weekday, dan pengguna berdasarkan Workingday , Non Workingday. Untuk jumlah pengguna sepeda berdasarkan workingday, workingday lah yang mengungguli non-workingday walaupun hasilnya memang tidak terlalu signifikan, tetapi tetap ada perbedaan yang jelas walaupun keduanya sama-sama diatas 4000 jumlah pengguna.Lalu untuk pengguna sepeda berdasar Holiday.Pengguna berdasar Non-Holiday lah yang mengungguli dengan perbedaan yang cukup signifikan daripada yang holiday.Hal ini mungkin pengguna lebih suka menyewa pada saat hari-hari biasa.Terakhir berdasarkan Weekday, dari visualisasi diatas Hari Kemis (Thur) yang menempati urutan pertama dengan rata-rata 196.436665 dan diurutan terakhir ada hari Minggu (Sun) dengan rata-rata 177.468825"
   ]
  },
  {
   "cell_type": "markdown",
   "id": "f1ea8ab2-e5af-4c5f-ab6d-78a2ccc521af",
   "metadata": {},
   "source": [
    "simpan semua hasil data yang sudah dibersihkan "
   ]
  },
  {
   "cell_type": "code",
   "execution_count": 25,
   "id": "1b8510a9-5c22-41a6-b35e-6f851a81e589",
   "metadata": {},
   "outputs": [],
   "source": [
    "hour_df.to_csv(\"all_data.csv\", index=False)"
   ]
  },
  {
   "cell_type": "code",
   "execution_count": null,
   "id": "6ccf1b3c-da73-4017-b199-b244d84bea1b",
   "metadata": {},
   "outputs": [],
   "source": []
  }
 ],
 "metadata": {
  "kernelspec": {
   "display_name": "Python 3 (ipykernel)",
   "language": "python",
   "name": "python3"
  },
  "language_info": {
   "codemirror_mode": {
    "name": "ipython",
    "version": 3
   },
   "file_extension": ".py",
   "mimetype": "text/x-python",
   "name": "python",
   "nbconvert_exporter": "python",
   "pygments_lexer": "ipython3",
   "version": "3.11.5"
  }
 },
 "nbformat": 4,
 "nbformat_minor": 5
}
